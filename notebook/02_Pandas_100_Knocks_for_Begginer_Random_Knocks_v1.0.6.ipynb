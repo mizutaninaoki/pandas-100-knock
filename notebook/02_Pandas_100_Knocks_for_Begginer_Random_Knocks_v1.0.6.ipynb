{
 "cells": [
  {
   "cell_type": "markdown",
   "metadata": {},
   "source": [
    "# 【ランダムノック】初学者向けPandas100本ノックver1.0.6\n",
    "##### 1～89までの問題をランダムに表示\n",
    "##### Shift + Enter で各セルのコードが実行されます\n",
    "・print(ans[ 問題番号 ]) で回答コード例を表示  \n",
    "・Python3エンジニア認定データ分析試験にも沿った問題内容   \n",
    "・Pandasの各メソッドの説明は以下のサイトが分かりやすいです  \n",
    " 　[note.nknk.me](https://note.nkmk.me/pandas/)  \n",
    "・\"Data for Titanic passengers\" from [VANDERBILT UNIVERSITY](https://biostat.app.vumc.org/wiki/Main/DataSets)  \n",
    "  \n",
    "作成日:2020年9月24日  \n",
    "最終更新日:2021年9月26日  \n",
    "再配布・改編不可  \n",
    "作成者：[kunishou](https://qiita.com/kunishou)"
   ]
  },
  {
   "cell_type": "code",
   "execution_count": 1,
   "metadata": {},
   "outputs": [
    {
     "name": "stdout",
     "output_type": "stream",
     "text": [
      "[question0]\n",
      "\n",
      "こんな感じで問題文が表示されます\n",
      "\n",
      "-------------------------------------------\n",
      "\n",
      "[answer0]\n",
      "\n",
      "このように回答コード例がここに表示されます。\n",
      "各問題の回答コード例を表示するときはprintの前の\n",
      "#を消して実行して下さい。\n",
      "\n",
      "コード例をセル内にコピー&ペーストし\n",
      "実行すると、正解のデータが表示されます\n"
     ]
    }
   ],
   "source": [
    "# Shift + Enterで題材データ、回答コードを読み込んで下さい\n",
    "\n",
    "import pandas as pd\n",
    "import glob\n",
    "import random\n",
    "\n",
    "#題材データをdfに読み込み(タイタニック号の乗客データ、テストの点数データ 等)\n",
    "def initialize1():\n",
    "    df = pd.read_csv('../input/titanic3.csv')\n",
    "    return df\n",
    "\n",
    "def initialize2():\n",
    "    df = pd.read_csv('../input/data1.csv')\n",
    "    return df\n",
    "\n",
    "df = initialize1()\n",
    "df2 = initialize2()\n",
    "df3 = pd.read_csv('../input/data1_2.csv')\n",
    "df4 = pd.read_csv('../input/data1_3.csv')\n",
    "df5 = pd.read_csv('../input/data2.csv',encoding='cp932')\n",
    "\n",
    "#問題文をquesリストに格納\n",
    "path = sorted(glob.glob('../input/q_' + '*.txt'))\n",
    "\n",
    "ques = []\n",
    "\n",
    "for _ in range(len(path)):\n",
    "    with open(path[_], 'r',encoding='utf-8') as f:\n",
    "        ques.append(f.read())\n",
    "\n",
    "#回答コードをansリストに格納\n",
    "path2 = sorted(glob.glob('../input/a_' + '*.txt'))\n",
    "\n",
    "ans = []\n",
    "\n",
    "for _ in range(len(path)):\n",
    "    with open(path2[_], 'r',encoding='utf-8') as f:\n",
    "        ans.append(f.read())\n",
    "\n",
    "print(ques[0])\n",
    "print(ans[0])"
   ]
  },
  {
   "cell_type": "markdown",
   "metadata": {},
   "source": [
    "# Random Knocks"
   ]
  },
  {
   "cell_type": "code",
   "execution_count": 2,
   "metadata": {},
   "outputs": [
    {
     "name": "stdout",
     "output_type": "stream",
     "text": [
      "[question68]\n",
      "\n",
      "# ①df2の生徒ごとの合計点（行方向の合計）\n",
      "# ②df2の科目ごとの点数の総和（列方向の合計）\n",
      "\n"
     ]
    }
   ],
   "source": [
    "#問題をランダムに表示\n",
    "print(random.choice(ques[1:]))"
   ]
  },
  {
   "cell_type": "code",
   "execution_count": 8,
   "metadata": {},
   "outputs": [
    {
     "data": {
      "text/plain": [
       "name           ABCDEFGHBD\n",
       "English               677\n",
       "Mathematics           738\n",
       "History               774\n",
       "dtype: object"
      ]
     },
     "execution_count": 8,
     "metadata": {},
     "output_type": "execute_result"
    }
   ],
   "source": [
    "df = initialize1() # 初期化\n",
    "df2 = initialize2() # 初期化\n",
    "# 回答をここに記述\n",
    "\n",
    "# print(df2.groupby('name').sum())\n",
    "# print(df2.groupby('name').sum(axis=1))\n",
    "\n",
    "df = df2.drop(['class'], axis=1)\n",
    "# df2.sum(axis=1)\n",
    "df.sum()\n"
   ]
  },
  {
   "cell_type": "code",
   "execution_count": 6,
   "metadata": {},
   "outputs": [
    {
     "name": "stdout",
     "output_type": "stream",
     "text": [
      "[answer68]\n",
      "\n",
      "df2 = df2.drop(['class'],axis=1)\n",
      "print(df2.sum(axis=1)) #行方向の合計\n",
      "print(df2.sum()) #列方向の合計\n",
      "\n",
      "\n",
      "[Tips]\n",
      "・合計値の確認はsum()を使用\n",
      "・引数空欄の場合、デフォルトは列方向の合計\n",
      "・引数にaxis=1を指定すると行方向の合計\n"
     ]
    }
   ],
   "source": [
    "print(ans[68]) # 回答表示(ans[]の[]内に問題番号を記入)"
   ]
  },
  {
   "cell_type": "markdown",
   "metadata": {},
   "source": [
    "各セルのoutput表示をすべてクリアにしたい場合は、ツールバーの  \n",
    "「Kernel」→「Restart & Clear Output」を実行して下さい。"
   ]
  }
 ],
 "metadata": {
  "hide_input": false,
  "kernelspec": {
   "display_name": "Python 3 (ipykernel)",
   "language": "python",
   "name": "python3"
  },
  "language_info": {
   "codemirror_mode": {
    "name": "ipython",
    "version": 3
   },
   "file_extension": ".py",
   "mimetype": "text/x-python",
   "name": "python",
   "nbconvert_exporter": "python",
   "pygments_lexer": "ipython3",
   "version": "3.9.10"
  },
  "toc": {
   "base_numbering": 1,
   "nav_menu": {},
   "number_sections": true,
   "sideBar": true,
   "skip_h1_title": false,
   "title_cell": "Table of Contents",
   "title_sidebar": "Contents",
   "toc_cell": false,
   "toc_position": {},
   "toc_section_display": true,
   "toc_window_display": false
  }
 },
 "nbformat": 4,
 "nbformat_minor": 4
}
